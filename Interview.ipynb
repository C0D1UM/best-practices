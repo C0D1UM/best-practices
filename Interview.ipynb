{
 "cells": [
  {
   "cell_type": "markdown",
   "metadata": {},
   "source": [
    "# Interview Problems\n",
    "## Easy\n",
    "# **1. Write a program that prints the numbers from 1 to 100. But for multiples of three print “Fizz” instead of the number and for the multiples of five print “Buzz”. For numbers which are multiples of both three and five print “FizzBuzz”. **\n",
    "\n",
    "  **Example Output:**\n",
    "  ```\n",
    "  1 2 Fizz 4 Buzz Fizz 7 8 Fizz Buzz 11 Fizz 13 14 FizzBuzz 16 17 Fizz 19 Buzz\n",
    "  Fizz 22 23 Fizz Buzz 26 Fizz 28 29 FizzBuzz 31 32 Fizz 34 Buzz Fizz 37 38 Fizz Buzz\n",
    "  41 Fizz 43 44 FizzBuzz 46 47 Fizz 49 Buzz Fizz 52 53 Fizz Buzz 56 Fizz 58 59 FizzBuzz\n",
    "  61 62 Fizz 64 Buzz Fizz 67 68 Fizz Buzz 71 Fizz 73 74 FizzBuzz 76 77 Fizz 79 Buzz\n",
    "  Fizz 82 83 Fizz Buzz 86 Fizz 88 89 FizzBuzz 91 92 Fizz 94 Buzz Fizz 97 98 Fizz Buzz"
   ]
  },
  {
   "cell_type": "code",
   "execution_count": 1,
   "metadata": {},
   "outputs": [
    {
     "name": "stdout",
     "output_type": "stream",
     "text": [
      "Question 1\n",
      "1 2 Fizz 4 Buzz Fizz 7 8 Fizz Buzz 11 Fizz 13 14 FizzBuzz 16 17 Fizz 19 Buzz Fizz 22 23 Fizz Buzz 26 Fizz 28 29 FizzBuzz 31 32 Fizz 34 Buzz Fizz 37 38 Fizz Buzz 41 Fizz 43 44 FizzBuzz 46 47 Fizz 49 Buzz Fizz 52 53 Fizz Buzz 56 Fizz 58 59 FizzBuzz 61 62 Fizz 64 Buzz Fizz 67 68 Fizz Buzz 71 Fizz 73 74 FizzBuzz 76 77 Fizz 79 Buzz Fizz 82 83 Fizz Buzz 86 Fizz 88 89 FizzBuzz 91 92 Fizz 94 Buzz Fizz 97 98 Fizz Buzz "
     ]
    }
   ],
   "source": [
    "print(\"Question 1\")\n",
    "for i in range (0,100):\n",
    "    i = i+1\n",
    "    if i % 3 == 0 and i % 5 == 0:\n",
    "        print(\"FizzBuzz\", end =' ')\n",
    "    elif i % 5 == 0:\n",
    "        print(\"Buzz\", end = ' ')\n",
    "    elif i % 3 == 0:\n",
    "        print(\"Fizz\", end =' ')\n",
    "    else:\n",
    "        print(i,end = ' ')"
   ]
  },
  {
   "cell_type": "markdown",
   "metadata": {},
   "source": [
    "# 2. Write a program that determine whether or not an integer input is a leap year.\n",
    "  - Definition of leap year:\n",
    "    - Rule 1: A year is called leap year if it is divisible by 400.\n",
    "\n",
    "      **Example:** 1600, 2000 etc. are leap year while 1500, 1700 are not leap year.\n",
    "    - Rule 2: If year is not divisible by 400 as well as 100 but it is divisible by 4 then that year are also leap year.\n",
    "\n",
    "      **Example:**  2004, 2008, 1012 are leap year.\n",
    "\n",
    "  **Example Output:**\n",
    "  ```\n",
    "  1600 -> true\n",
    "  2000 -> true\n",
    "  1500 -> false\n",
    "  2004 -> true\n",
    "  2008 -> true\n",
    "  2010 -> false"
   ]
  },
  {
   "cell_type": "code",
   "execution_count": 2,
   "metadata": {},
   "outputs": [
    {
     "name": "stdout",
     "output_type": "stream",
     "text": [
      "Enter a year: 1234\n",
      "1234  -> 'False'\n"
     ]
    }
   ],
   "source": [
    "yearString = input(\"Enter a year: \")\n",
    "year = int(yearString)\n",
    "if year % 400 == 0:\n",
    "    print( year , \" -> 'True'\")\n",
    "elif year % 4 ==0 and year % 400 != 0 and year % 100 != 0:\n",
    "    print( year , \" -> 'True'\")\n",
    "else:\n",
    "    print( year , \" -> 'False'\")"
   ]
  },
  {
   "cell_type": "markdown",
   "metadata": {},
   "source": [
    "# **3. Write a program that produce the following output giving an integer input n.**\n",
    "\n",
    "# **3.1**\n",
    "\n",
    "```\n",
    "n=3   n=4    n=6\n",
    "*     *      *\n",
    "**    **     **\n",
    "***   ***    ***\n",
    "      ****   ****\n",
    "             *****\n",
    "             ******\n",
    "```"
   ]
  },
  {
   "cell_type": "code",
   "execution_count": 3,
   "metadata": {},
   "outputs": [
    {
     "name": "stdout",
     "output_type": "stream",
     "text": [
      "Enter a num: 3\n",
      "*\n",
      "**\n",
      "***\n"
     ]
    }
   ],
   "source": [
    "numString = input(\"Enter a num: \")\n",
    "num = int(numString)\n",
    "\n",
    "for i in range(0,num):\n",
    "    for j in range(0,i+1):\n",
    "        print('*', end='')\n",
    "    print(\"\\r\")"
   ]
  },
  {
   "cell_type": "markdown",
   "metadata": {},
   "source": [
    "#  * 3.2\n",
    "\n",
    "```\n",
    "n=3    n=4      n=6\n",
    "  *      *        *\n",
    " **     **       **\n",
    "***    ***      ***\n",
    "      ****     ****\n",
    "              *****\n",
    "             ******\n",
    "```"
   ]
  },
  {
   "cell_type": "code",
   "execution_count": 4,
   "metadata": {},
   "outputs": [
    {
     "name": "stdout",
     "output_type": "stream",
     "text": [
      "Enter a num: 4\n",
      "   *\n",
      "  **\n",
      " ***\n",
      "****\n"
     ]
    }
   ],
   "source": [
    "numString = input(\"Enter a num: \")\n",
    "num = int(numString)\n",
    "for i in range(0,num):\n",
    "    print(' '*(num-i-1) + '*'*(i+1))"
   ]
  },
  {
   "cell_type": "markdown",
   "metadata": {},
   "source": [
    "# * 3.3\n",
    "\n",
    "```\n",
    "n=1    n=2      n=3    \t  n=4       n=5\n",
    "*       *        *         *         *\n",
    "       * *      * * \t  * *       * *\n",
    "               *   *\t *   *     *   * \t\t    \n",
    "                        *     *   *     *\n",
    "                                 *       *          \n",
    "        \n",
    "```"
   ]
  },
  {
   "cell_type": "code",
   "execution_count": 5,
   "metadata": {},
   "outputs": [
    {
     "name": "stdout",
     "output_type": "stream",
     "text": [
      "Enter a num: 5\n",
      "    *\n",
      "   * *\n",
      "  *   *\n",
      " *     *\n",
      "*       *\n"
     ]
    }
   ],
   "source": [
    "numString = input(\"Enter a num: \")\n",
    "num = int(numString)\n",
    "middle_part =1\n",
    "for i in range(1,num+1):\n",
    "    for j in range(i,num):\n",
    "        print(' ',end='')\n",
    "    print(\"*\", end='')\n",
    "    for j in range(middle_part-2):\n",
    "        print(' ',end='') \n",
    "    if i != 1:\n",
    "        print(\"*\", end='')\n",
    "    middle_part+=2\n",
    "    print('\\r')\n"
   ]
  },
  {
   "cell_type": "markdown",
   "metadata": {},
   "source": [
    "# * 3.4\n",
    "\n",
    "```\n",
    "n=1\tn=2\tn=3\tn=4   n=5\n",
    "*\t**\t* *\t*  *\t*   *\n",
    "\t**\t * \t **      * *\n",
    "\t\t* *\t **       *  \n",
    "\t\t\t*  *\t * *\n",
    "\t\t\t\t\t*   *\n",
    "```\n"
   ]
  },
  {
   "cell_type": "code",
   "execution_count": 15,
   "metadata": {},
   "outputs": [
    {
     "name": "stdout",
     "output_type": "stream",
     "text": [
      "Enter a num: 5\n",
      "*   *\n",
      " * *\n",
      "  *\n",
      " * *\n",
      "*   *\n"
     ]
    }
   ],
   "source": [
    "numString = input(\"Enter a num: \")\n",
    "num = int(numString)\n",
    "middle_part =1\n",
    "space =1\n",
    "if num%2 !=0:\n",
    "    for i in range(num,0,-2):\n",
    "        for k in range(middle_part-1):\n",
    "            print(' ',end='')\n",
    "        print('*',end='')\n",
    "        for j in range(1,i-1):\n",
    "            print(' ',end='')\n",
    "        if i!=1:\n",
    "            print('*',end='')\n",
    "        print('\\r')\n",
    "        middle_part=middle_part+1\n",
    "    for i in range(2,num+1,2):\n",
    "        for k in range(middle_part-3):\n",
    "            print(' ',end='')\n",
    "        print(\"*\", end='')\n",
    "        for j in range(1,2*space):\n",
    "            print(' ',end='')\n",
    "        if i!=1:\n",
    "            print(\"*\", end='')\n",
    "        space=space+1\n",
    "        middle_part=middle_part-1\n",
    "        print('\\r')\n",
    "\n",
    "elif num%2 == 0:\n",
    "    for i in range(num,1,-2):\n",
    "        for j in range(middle_part - 1):\n",
    "            print(' ' ,end = '')\n",
    "        print(\"*\",end = '')\n",
    "        for j in range(1,i-1):\n",
    "            print(' ',end='')\n",
    "        if i!=0:\n",
    "            print(\"*\",end ='')\n",
    "        print('\\r')\n",
    "        middle_part +=1\n",
    "\n",
    "        for i in range(1,num+1,2):\n",
    "            m_s = 2 * space -1\n",
    "            for k in range(middle_part-2):\n",
    "                print(' ',end='')\n",
    "                print(\"*\", end='')\n",
    "            for j in range(1,m_s):\n",
    "                print(' ',end='')        \n",
    "            if i != 0:\n",
    "                print(\"*\", end='')\n",
    "            space=space+1\n",
    "            middle_part=middle_part-1\n",
    "            print('\\r')\n"
   ]
  },
  {
   "cell_type": "markdown",
   "metadata": {},
   "source": [
    "# * 3.5  (NB: Not easy)\n",
    "  \n",
    "```\n",
    "n=1  n=2  n=3   n=4    n=5        n=9\n",
    "\n",
    "*    *     *     *      *          *\n",
    "     *    ***   ***    ***        ***\n",
    "           *    ***   *****      *****\n",
    "                 *     ***      *******\n",
    "                        *      *********\n",
    "                                *******\n",
    "                                 *****\n",
    "                                  ***\n",
    "                                   *"
   ]
  },
  {
   "cell_type": "code",
   "execution_count": 7,
   "metadata": {},
   "outputs": [
    {
     "name": "stdout",
     "output_type": "stream",
     "text": [
      "Enter a num: 7\n",
      "      *\n",
      "     ***\n",
      "    *****\n",
      "   *******\n",
      "    *****\n",
      "     ***\n",
      "      *\n"
     ]
    }
   ],
   "source": [
    "numString = input(\"Enter a num: \")\n",
    "num = int(numString)\n",
    "for i in range(1,num+1):\n",
    "        if num >=3:\n",
    "            if i%2 ==0:\n",
    "                continue\n",
    "            else:\n",
    "                print(' '*int(num-i/2) + '*'*(i))\n",
    "        else:\n",
    "            for i in range(1,num+1):\n",
    "                print('*')\n",
    "\n",
    "for j in range(num,1,-1):\n",
    "    if j%2 == 0:\n",
    "        continue \n",
    "    else:\n",
    "        print(' '*int(num -(j-2)/2) + '*'*(j-2))\n",
    "\n"
   ]
  },
  {
   "cell_type": "markdown",
   "metadata": {},
   "source": [
    "# * 3.6\n",
    "\n",
    "```\n",
    "\n",
    "n=1\t\tn=2     n=3         n=4\n",
    "+       A+B     AA+BB       AAA+BBB\n",
    "        +E+     A+E+B       AA+E+BB\n",
    "        C+D  \t+EEE+       A+EEE+B\n",
    "                C+E+D       +EEEEE+\n",
    "                CC+DD       C+EEE+D\t\n",
    "                            CC+E+DD\n",
    "                            CCC+DDD\n",
    "```"
   ]
  },
  {
   "cell_type": "code",
   "execution_count": 8,
   "metadata": {},
   "outputs": [
    {
     "name": "stdout",
     "output_type": "stream",
     "text": [
      "Enter a num: 8\n",
      "AAAAAAA+BBBBBBB\n",
      "AAAAAA+E+BBBBBB\n",
      "AAAAA+EEE+BBBBB\n",
      "AAAA+EEEEE+BBBB\n",
      "AAA+EEEEEEE+BBB\n",
      "AA+EEEEEEEEE+BB\n",
      "A+EEEEEEEEEEE+B\n",
      "+EEEEEEEEEEEEE+\n",
      "C+EEEEEEEEEEE+D\n",
      "CC+EEEEEEEEE+DD\n",
      "CCC+EEEEEEE+DDD\n",
      "CCCC+EEEEE+DDDD\n",
      "CCCCC+EEE+DDDDD\n",
      "CCCCCC+E+DDDDDD\n",
      "CCCCCCC+DDDDDDD\n"
     ]
    }
   ],
   "source": [
    "numString = input(\"Enter a num: \")\n",
    "num = int(numString)\n",
    "\n",
    "a = 1\n",
    "\n",
    "if num ==1:\n",
    "    print(\"+\")\n",
    "else:\n",
    "    for i in range(2,num+2):\n",
    "        for j in range(i,num+1):\n",
    "            print('A',end='')\n",
    "        print(\"+\", end='')\n",
    "        for j in range(a-2):\n",
    "            print('E',end='')\n",
    "        if i != 2:\n",
    "            print(\"+\", end='')\n",
    "        for j in range(i,num+1):\n",
    "            print('B',end='')        \n",
    "        a +=2\n",
    "        print('')\n",
    "    a = a - 4\n",
    "    for i in range(num,1,-1):\n",
    "        for j in range(i,num+1):\n",
    "            print('C',end='')\n",
    "        print(\"+\", end='')\n",
    "        for j in range(a-2):\n",
    "            print('E',end='')\n",
    "        if i != 2:\n",
    "            print(\"+\", end='')\n",
    "        for j in range(i,num+1):\n",
    "            print('D',end='')        \n",
    "        a-=2\n",
    "        print('')\n"
   ]
  },
  {
   "cell_type": "markdown",
   "metadata": {},
   "source": [
    "# 4. (Python specific) In Python, what is the difference between `else` and `finally` in exception handling?"
   ]
  },
  {
   "cell_type": "markdown",
   "metadata": {},
   "source": [
    "Else in exception handling can be used to raise an exception in try which was not raised. Whereas in Finally block,\n",
    "whether the exception was raised or not the code will get executed and may not raise an exception even in the else section."
   ]
  },
  {
   "cell_type": "markdown",
   "metadata": {},
   "source": [
    "# Medium\n",
    "# **1. Write a program that finds all prime numbers up to n for input n.**\n",
    "**Example Output:**\n",
    "```\n",
    "20 -> 2 3 5 7 11 13 17 19\n",
    "```"
   ]
  },
  {
   "cell_type": "code",
   "execution_count": 9,
   "metadata": {},
   "outputs": [
    {
     "name": "stdout",
     "output_type": "stream",
     "text": [
      "Enter a num: 9\n",
      "2\n",
      "3\n",
      "5\n",
      "7\n"
     ]
    }
   ],
   "source": [
    "numString = input(\"Enter a num: \")\n",
    "num = int(numString)\n",
    "for i in range(2, num+1):\n",
    "    for j in range(2, i):\n",
    "        if i % j == 0:\n",
    "            break\n",
    "    else:\n",
    "        print(i)"
   ]
  },
  {
   "cell_type": "code",
   "execution_count": null,
   "metadata": {},
   "outputs": [],
   "source": []
  }
 ],
 "metadata": {
  "kernelspec": {
   "display_name": "Python 3",
   "language": "python",
   "name": "python3"
  },
  "language_info": {
   "codemirror_mode": {
    "name": "ipython",
    "version": 3
   },
   "file_extension": ".py",
   "mimetype": "text/x-python",
   "name": "python",
   "nbconvert_exporter": "python",
   "pygments_lexer": "ipython3",
   "version": "3.5.5"
  }
 },
 "nbformat": 4,
 "nbformat_minor": 2
}
